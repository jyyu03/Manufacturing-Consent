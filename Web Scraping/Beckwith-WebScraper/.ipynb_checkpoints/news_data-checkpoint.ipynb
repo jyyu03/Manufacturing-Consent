{
 "cells": [
  {
   "cell_type": "code",
   "execution_count": 1,
   "metadata": {},
   "outputs": [],
   "source": [
    "# Chrome Driver and Imports\n",
    "from splinter import Browser\n",
    "from bs4 import BeautifulSoup as bs\n",
    "import pandas as pd\n",
    "import prettify\n",
    "import requests\n",
    "import pymongo\n",
    "import requests\n",
    "import time\n",
    "from citipy import citipy\n",
    "import json\n",
    "import tweepy\n",
    "from config import consumer_key, consumer_secret, access_token, access_token_secret\n",
    "executable_path = {'executable_path': 'chromedriver.exe'}\n",
    "browser = Browser('chrome', **executable_path, headless=False)"
   ]
  },
  {
   "cell_type": "code",
   "execution_count": 2,
   "metadata": {},
   "outputs": [],
   "source": [
    "conn = 'mongodb://localhost:27017'\n",
    "client = pymongo.MongoClient(conn)"
   ]
  },
  {
   "cell_type": "code",
   "execution_count": 3,
   "metadata": {},
   "outputs": [],
   "source": [
    "## ENTER STATE\n",
    "state = 'WI'"
   ]
  },
  {
   "cell_type": "code",
   "execution_count": 6,
   "metadata": {},
   "outputs": [],
   "source": [
    "#####BROWSER####\n",
    "url = f\"https://www.stationindex.com/tv/by-state/{state}\"\n",
    "browser.visit(url)\n",
    "html=(browser.html)\n",
    "soup = bs(html, 'html.parser')\n",
    "soup.encode(\"utf-8\")\n",
    "pretty = soup.prettify\n",
    "links = soup.find_all('a')"
   ]
  },
  {
   "cell_type": "code",
   "execution_count": 7,
   "metadata": {},
   "outputs": [],
   "source": [
    "callsigns = []\n",
    "markets = []\n",
    "urls = []\n",
    "# get the links from the \n",
    "for link in links:\n",
    "    if \"tv/callsign\" in link['href']:\n",
    "        callsigns.append(link.string)\n",
    "        urls.append(link['href'])\n",
    "#         print(link.string)\n",
    "    elif \"tv/markets\" in link['href']:\n",
    "        markets.append(link.string)"
   ]
  },
  {
   "cell_type": "code",
   "execution_count": 8,
   "metadata": {},
   "outputs": [],
   "source": [
    "stations = pd.DataFrame({\n",
    "    \"Callsign\": callsigns,\n",
    "    \"Market\": markets,\n",
    "    \"URL\": urls\n",
    "})"
   ]
  },
  {
   "cell_type": "code",
   "execution_count": 9,
   "metadata": {},
   "outputs": [
    {
     "data": {
      "text/html": [
       "<div>\n",
       "<style scoped>\n",
       "    .dataframe tbody tr th:only-of-type {\n",
       "        vertical-align: middle;\n",
       "    }\n",
       "\n",
       "    .dataframe tbody tr th {\n",
       "        vertical-align: top;\n",
       "    }\n",
       "\n",
       "    .dataframe thead th {\n",
       "        text-align: right;\n",
       "    }\n",
       "</style>\n",
       "<table border=\"1\" class=\"dataframe\">\n",
       "  <thead>\n",
       "    <tr style=\"text-align: right;\">\n",
       "      <th></th>\n",
       "      <th>Callsign</th>\n",
       "      <th>Market</th>\n",
       "      <th>URL</th>\n",
       "    </tr>\n",
       "  </thead>\n",
       "  <tbody>\n",
       "    <tr>\n",
       "      <th>0</th>\n",
       "      <td>KBJR</td>\n",
       "      <td>Duluth-Superior</td>\n",
       "      <td>http://www.stationindex.com/tv/callsign/KBJR</td>\n",
       "    </tr>\n",
       "    <tr>\n",
       "      <th>1</th>\n",
       "      <td>WACY</td>\n",
       "      <td>Green Bay-Appleton</td>\n",
       "      <td>http://www.stationindex.com/tv/callsign/WACY</td>\n",
       "    </tr>\n",
       "    <tr>\n",
       "      <th>2</th>\n",
       "      <td>WAOW</td>\n",
       "      <td>Wausau-Rhinelander</td>\n",
       "      <td>http://www.stationindex.com/tv/callsign/WAOW</td>\n",
       "    </tr>\n",
       "    <tr>\n",
       "      <th>3</th>\n",
       "      <td>WBAY</td>\n",
       "      <td>Green Bay-Appleton</td>\n",
       "      <td>http://www.stationindex.com/tv/callsign/WBAY</td>\n",
       "    </tr>\n",
       "    <tr>\n",
       "      <th>4</th>\n",
       "      <td>WBIJ</td>\n",
       "      <td>Wausau-Rhinelander</td>\n",
       "      <td>http://www.stationindex.com/tv/callsign/WBIJ</td>\n",
       "    </tr>\n",
       "  </tbody>\n",
       "</table>\n",
       "</div>"
      ],
      "text/plain": [
       "  Callsign              Market                                           URL\n",
       "0     KBJR     Duluth-Superior  http://www.stationindex.com/tv/callsign/KBJR\n",
       "1     WACY  Green Bay-Appleton  http://www.stationindex.com/tv/callsign/WACY\n",
       "2     WAOW  Wausau-Rhinelander  http://www.stationindex.com/tv/callsign/WAOW\n",
       "3     WBAY  Green Bay-Appleton  http://www.stationindex.com/tv/callsign/WBAY\n",
       "4     WBIJ  Wausau-Rhinelander  http://www.stationindex.com/tv/callsign/WBIJ"
      ]
     },
     "execution_count": 9,
     "metadata": {},
     "output_type": "execute_result"
    }
   ],
   "source": [
    "stations.head()"
   ]
  },
  {
   "cell_type": "code",
   "execution_count": 10,
   "metadata": {},
   "outputs": [],
   "source": [
    "page_twitters=[]\n",
    "website_links = []\n",
    "station_urls = stations['URL']\n",
    "# for station in station_urls:\n",
    "#     print(station)"
   ]
  },
  {
   "cell_type": "code",
   "execution_count": 11,
   "metadata": {},
   "outputs": [],
   "source": [
    "## GET WEBSITES FOR EACH LOCAL STATION IN THE STATE\n",
    "for station in station_urls:\n",
    "    url = station\n",
    "    browser.visit(url)\n",
    "    html=(browser.html)\n",
    "    soup = bs(html, 'html.parser')\n",
    "    soup.encode(\"utf-8\")\n",
    "    links = soup.find_all('a')\n",
    "    page_links=[]\n",
    "    for link in links:\n",
    "        page_links.append(link.text)\n",
    "        if \"http\" in link.text:\n",
    "            website_links.append(link.text)"
   ]
  },
  {
   "cell_type": "code",
   "execution_count": 12,
   "metadata": {},
   "outputs": [],
   "source": [
    "# ## New Headless Driver if needed\n",
    "# executable_path = {'executable_path': 'chromedriver.exe'}\n",
    "# browser = Browser('chrome', **executable_path, headless=True)"
   ]
  },
  {
   "cell_type": "code",
   "execution_count": 13,
   "metadata": {
    "scrolled": false
   },
   "outputs": [],
   "source": [
    "## GET EVERY STATION'S TWITTER LINK IF THEY HAVE ONE\n",
    "twitter_links=[]\n",
    "for link in website_links:\n",
    "    browser.visit(link)\n",
    "    html=(browser.html)\n",
    "    soup = bs(html, 'html.parser')\n",
    "    soup.encode(\"utf-8\")\n",
    "    paragraphs = soup.find_all('p')\n",
    "    links = soup.find_all('a')\n",
    "    for link in links:\n",
    "        if \"Twitter\" in link.text:\n",
    "            twitter_links.append(link['href'])\n",
    "        else:\n",
    "            continue"
   ]
  },
  {
   "cell_type": "code",
   "execution_count": 14,
   "metadata": {},
   "outputs": [
    {
     "name": "stdout",
     "output_type": "stream",
     "text": [
      "WI Stations with Twitter: 10\n",
      "['@kbjr6news', '@WAOW', '@MeTV', '@nbc26', '@fox6now', '@WKOW', '@wqow', '@tmj4', '@tbn', '@wxow']\n"
     ]
    }
   ],
   "source": [
    "twitters=[]\n",
    "for link in twitter_links:\n",
    "    if 'twitter.com/' in link:\n",
    "        if link not in twitters:\n",
    "            twit = link.replace(\"https://twitter.com/\", \"@\")\n",
    "            twit = twit.replace(\"http://twitter.com/\", \"@\")\n",
    "            twit = twit.replace(\"http://www.twitter.com/\", \"@\")\n",
    "            twit = twit.replace(\"https://www.twitter.com/\", \"@\")\n",
    "            twit = twit.replace(\"twitter.com/\", \"@\")\n",
    "            if twit not in twitters:\n",
    "                twitters.append(twit)\n",
    "print(f\"{state} Stations with Twitter: {len(twitters)}\")\n",
    "print(twitters)"
   ]
  },
  {
   "cell_type": "code",
   "execution_count": 15,
   "metadata": {},
   "outputs": [],
   "source": [
    "state_stations = pd.DataFrame({\n",
    "    \"Twitter\": twitters\n",
    "})"
   ]
  },
  {
   "cell_type": "code",
   "execution_count": 16,
   "metadata": {},
   "outputs": [],
   "source": [
    "state_stations.to_csv(f\"{state}_station_twitters.csv\")\n",
    "# stations.to_csv(\"D:\\Resources\\wisconsin_stations.csv\")"
   ]
  },
  {
   "cell_type": "code",
   "execution_count": 17,
   "metadata": {},
   "outputs": [],
   "source": [
    "# Setup Tweepy API Authentication\n",
    "auth = tweepy.OAuthHandler(consumer_key, consumer_secret)\n",
    "auth.set_access_token(access_token, access_token_secret)\n",
    "api = tweepy.API(auth, parser=tweepy.parsers.JSONParser())"
   ]
  },
  {
   "cell_type": "code",
   "execution_count": 116,
   "metadata": {},
   "outputs": [],
   "source": [
    "# station_tweets = api.user_timeline(id=twitters[1], max_id=\"1060061046734753792\", count=5)"
   ]
  },
  {
   "cell_type": "code",
   "execution_count": 117,
   "metadata": {},
   "outputs": [],
   "source": [
    "# #IF USING api.search\n",
    "# station_tweets = station_tweets['statuses']"
   ]
  },
  {
   "cell_type": "code",
   "execution_count": 124,
   "metadata": {
    "scrolled": true
   },
   "outputs": [
    {
     "name": "stdout",
     "output_type": "stream",
     "text": [
      "User: @kbjr6news Created: Wed Nov 07 02:34:49 +0000 2018 Tweet: AP VOTECAST: with Democrat leading the Republican https://t.co/vDgDqcsvDY\n",
      "User: @kbjr6news Created: Wed Nov 07 02:15:29 +0000 2018 Tweet: BREAKING: Baldwin projected winner for Wisconsin U.S. Senate. https://t.co/NkeJKIsvUO\n",
      "User: @kbjr6news Created: Wed Nov 07 02:11:41 +0000 2018 Tweet: JUST IN: Klobuchar projected winner for U.S. Senate for Minnesota. \n",
      "https://t.co/vkosVxHjvA\n",
      "User: @kbjr6news Created: Wed Nov 07 01:19:22 +0000 2018 Tweet: UMD voter registration interns offer voting information help\n",
      "https://t.co/DT7ZwFhGeo\n",
      "User: @kbjr6news Created: Tue Nov 06 18:45:01 +0000 2018 Tweet: PHOTOS WANTED: Decision 2018/Campaign 2018 voters https://t.co/Tb72la0HMY\n",
      "User: @kbjr6news Created: Tue Nov 06 15:22:33 +0000 2018 Tweet: Here's what the Copper Top church polling place looked like at 9:17 this morning - so far, 245 voters have passed t… https://t.co/SsM6XZurNq\n",
      "User: @nbc26 Created: Wed Nov 07 02:45:30 +0000 2018 Tweet: #ElectionNight: @CNN projects @tammybaldwin as winner for U.S. Senate. https://t.co/JYzcPw5u6e\n",
      "User: @nbc26 Created: Wed Nov 07 02:05:53 +0000 2018 Tweet: NBC News: Exit poll data calls US Senate race for Tammy Baldwin. https://t.co/bYdYwLrqH8\n",
      "User: @nbc26 Created: Wed Nov 07 01:39:21 +0000 2018 Tweet: #ElectionNight: Here’s a snapshot of who voted and why in #Wisconsin, based on preliminary results from AP VoteCast. https://t.co/4EGfXggXgq\n",
      "User: @nbc26 Created: Wed Nov 07 00:10:03 +0000 2018 Tweet: #Midterm2018: As of 3:30 p.m. today, poll workers in Ashwaubenon say 49% of registered voters had cast a ballot. Th… https://t.co/hH1UKClPpC\n",
      "User: @nbc26 Created: Tue Nov 06 23:56:35 +0000 2018 Tweet: #Midterm2018: New exit polls out tonight get a feel of voters' mindsets as they cast their ballot. https://t.co/d9qc8SgfVx\n",
      "User: @nbc26 Created: Tue Nov 06 20:30:10 +0000 2018 Tweet: #ElectionDay2018: The race for Wisconsin's 8th Congressional District pairs Republican incumbent Mike Gallagher aga… https://t.co/0ifXaDiFWy\n",
      "User: @nbc26 Created: Tue Nov 06 20:00:39 +0000 2018 Tweet: #ElectionDay2018: Across the state of Wisconsin, Republican Leah Vukmir and Democrat Tammy Baldwin are each hoping… https://t.co/zt3Iz71uAl\n",
      "User: @nbc26 Created: Tue Nov 06 19:29:20 +0000 2018 Tweet: #ElectionDay: 33 million Americans have voted in the midterms so far, with a surge of younger voters. #BadgersVote… https://t.co/vc0RmQNZOj\n",
      "User: @nbc26 Created: Tue Nov 06 19:15:06 +0000 2018 Tweet: #ElectionDay: People in Menominee, Michigan will vote on whether to legalize recreational #marijuana. https://t.co/Q2bsw6CK7D\n",
      "User: @nbc26 Created: Tue Nov 06 19:05:06 +0000 2018 Tweet: While a Democratic victory is far from guaranteed, the party has been viewed as a slight favorite to win the House… https://t.co/yupPVIJAAQ\n",
      "User: @nbc26 Created: Tue Nov 06 18:55:04 +0000 2018 Tweet: #MidtermElections2018: Republicans are hoping to keep control of the Senate and expand their majority, while Democr… https://t.co/f8q6IHuPDi\n",
      "User: @nbc26 Created: Tue Nov 06 12:49:54 +0000 2018 Tweet: Facebook removes pages before America votes https://t.co/wsA3GWBX7j\n",
      "User: @nbc26 Created: Mon Nov 05 22:06:13 +0000 2018 Tweet: RT @CameronMoreland: #ElectionDay2018 will be #WET!! #vote #wisconsin #nbc26 https://t.co/VOE9CeicJu\n",
      "User: @fox6now Created: Wed Nov 07 02:26:18 +0000 2018 Tweet: RT @StephGradyTV: BREAKING: @tammybaldwin holds onto her #USSenate seat in Wisconsin defeating Leah @LeahVukmir @fox6now #MidtermElections2…\n",
      "User: @fox6now Created: Wed Nov 07 02:05:07 +0000 2018 Tweet: FOX News projects @tammybaldwin wins re-election in U.S. Senate race: https://t.co/Rkxu1Qkhcd #BREAKING https://t.co/PruHXvEx6h\n",
      "User: @fox6now Created: Wed Nov 07 01:23:55 +0000 2018 Tweet: RT @myrasanchick: Democrats at Randy Bryce for Congress watch party optimistic. In a district that has been Republican Paul Ryan’s. Bryce s…\n",
      "User: @fox6now Created: Tue Nov 06 23:31:53 +0000 2018 Tweet: ‘No reason not to:’ Rain doesn’t stop voters, with noticeably high turnout in Waukesha Co. https://t.co/r1cOTs2pAd https://t.co/EcpbAeYuHY\n",
      "User: @fox6now Created: Tue Nov 06 23:09:44 +0000 2018 Tweet: ‘It’s kind of surreal:’ @IronStache anxious for results in 1st Congressional District race: https://t.co/g6figzaJdY https://t.co/LmFB0v12Vm\n",
      "User: @fox6now Created: Tue Nov 06 23:09:04 +0000 2018 Tweet: .@BryanSteilforWI says ‘I feel like momentum is on our side’ in 1st Congressional District race:… https://t.co/YSWyoSXJ2g\n",
      "User: @fox6now Created: Tue Nov 06 23:06:18 +0000 2018 Tweet: ‘It is so encouraging:’ Senator @tammybaldwin expects voter turnout to break midterm records:… https://t.co/HJ8F6Uk5VJ\n",
      "User: @fox6now Created: Tue Nov 06 22:22:12 +0000 2018 Tweet: AP survey: Health care, immigration high on voters' minds https://t.co/FW0ECQDIiX https://t.co/AnASFKKqGQ\n",
      "User: @fox6now Created: Tue Nov 06 20:55:28 +0000 2018 Tweet: RT @AmyDuPontFox6: Voter #724. In &amp; out in 7 minutes. #MidtermElection2018 #vote @fox6now @fox6wakeup https://t.co/7ZaMwqynaJ\n",
      "User: @fox6now Created: Tue Nov 06 19:29:06 +0000 2018 Tweet: RT @Jen_Lask: ✔️ #ivoted sticker\n",
      "\n",
      "✔️coffee\n",
      "\n",
      "✔️#ElectionNight notes\n",
      "\n",
      "Let’s do this! @fox6now #YouDecide https://t.co/7OjgjAiO0B\n",
      "User: @fox6now Created: Tue Nov 06 19:13:04 +0000 2018 Tweet: RT @angelicaduria: If baby bump can walk in the cold and rain to vote, so can you! Go vote! #2018midterms #ElectionDay #IVoted #GoVote http…\n",
      "User: @WKOW Created: Wed Nov 07 02:45:08 +0000 2018 Tweet: RT @galli_wkow: GOP party in unusual place with Rep. Senate challenger Vukmir defeated, but Governor Walker still bidding for re-election #…\n",
      "User: @WKOW Created: Wed Nov 07 02:02:58 +0000 2018 Tweet: BREAKING: ABC News projects Tammy Baldwin re-elected to U.S. Senate, defeating Leah Vukmir https://t.co/llCllEPuJV\n",
      "User: @WKOW Created: Wed Nov 07 01:39:09 +0000 2018 Tweet: RT @jenniferkliese: Congressman @MarkPocan is one of the first guests to arrive at @tammybaldwin #ElectionNight party. The Senator is expec…\n",
      "User: @WKOW Created: Wed Nov 07 00:17:04 +0000 2018 Tweet: RT @MaxTsaparis: So far 81% of all registered voters in WI's 40th ward have done their civic duty! Polls open til 8pm! #ElectionDay #IVoted…\n",
      "User: @WKOW Created: Tue Nov 06 20:30:18 +0000 2018 Tweet: RT @MaxTsaparis: When the weather is wet &amp; cold, voter turnout goes down. Will that be the case this year?? #ElectionDay #wiwx https://t.co…\n",
      "User: @WKOW Created: Tue Nov 06 14:52:51 +0000 2018 Tweet: RT @PorterReports: RIGHT NOW: people are lining up to vote at Sequoya Library. Earlier, the commissioner for this spot said they were “swam…\n",
      "User: @WKOW Created: Tue Nov 06 12:25:00 +0000 2018 Tweet: LEGALIZING MARIJUANA? Today voters in Dane and Rock counties will see marijuana questions on their ballots.… https://t.co/3CPO7uGcer\n",
      "User: @WKOW Created: Tue Nov 06 12:10:00 +0000 2018 Tweet: NEED A RIDE TO THE POLLS? If you’re still on the fence about going to vote because you don’t know how to get to you… https://t.co/vDtp1vYB9r\n",
      "User: @WKOW Created: Tue Nov 06 11:30:00 +0000 2018 Tweet: FINAL PUSH: Democratic and Republican candidates, and their supporters, are pushing hard to energize voters.… https://t.co/EQllHp7E0Z\n",
      "User: @wqow Created: Wed Nov 07 02:42:39 +0000 2018 Tweet: Dead heat in the race for WI governor with 21% in. Evers leads by only 5,000 votes.\n",
      "User: @wqow Created: Wed Nov 07 01:41:30 +0000 2018 Tweet: Exit polls: Nonwhite voters making up largest share of WI voters since 1994.\n",
      "https://t.co/vob0scFVLU\n",
      "User: @wqow Created: Wed Nov 07 00:02:08 +0000 2018 Tweet: Polls have just closed in 6 states. 2 more hours for Wisconsin voters to cast a ballot. #YourVoiceYourVote\n",
      "User: @wqow Created: Tue Nov 06 23:40:24 +0000 2018 Tweet: JUST IN: 61.7 % of registered voters have voted so far in Eau Claire.\n",
      "User: @wqow Created: Tue Nov 06 23:30:03 +0000 2018 Tweet: Did you vote? Why that means free beer for you.\n",
      "https://t.co/3mtA4Pye3P\n",
      "User: @wqow Created: Tue Nov 06 02:00:01 +0000 2018 Tweet: Leah Vukmir makes final pitch to voters in Eau Claire.\n",
      "https://t.co/b8jPbB1JjQ\n",
      "User: @tmj4 Created: Wed Nov 07 02:42:16 +0000 2018 Tweet: RT @CharlesBenson4: Democratic Party of WI already congratulating Tammy Baldwin. \n",
      "“Wisconsinites have re-elected our Senator Tammy Baldwin…\n",
      "User: @tmj4 Created: Wed Nov 07 02:40:10 +0000 2018 Tweet: Evers now ahead with 50 percent of the vote. Check https://t.co/EppgJobZ1v for updates https://t.co/RQlEhex99C\n",
      "User: @tmj4 Created: Wed Nov 07 02:37:16 +0000 2018 Tweet: RT @PeteZervakisTV: Much like @SpeakerRyan always has, @BryanSteilforWI performing well in the portion Wis. D1 in Waukesha Co. 72% votes w/…\n",
      "User: @tmj4 Created: Wed Nov 07 02:36:24 +0000 2018 Tweet: With 10 percent of the vote in Walker is ahead at 52 percent. Evers currently has 47 percent of the vote. Keep up w… https://t.co/lEG6lVAFKk\n",
      "User: @tmj4 Created: Wed Nov 07 02:32:51 +0000 2018 Tweet: RT @CoreenZell: WI Exit Poll Data on Governor's race-\n",
      "56% women voted for Tony Evers\n",
      "43% women voted for Scott Walker \n",
      "50% men voted for Wa…\n",
      "User: @tmj4 Created: Wed Nov 07 02:16:22 +0000 2018 Tweet: RT @PeteZervakisTV: First numbers coming in in Wis. Congressional Dist. 1 race from Kenosha Co. and chunk of Waukesha Co. @tmj4 https://t.c…\n",
      "User: @tmj4 Created: Wed Nov 07 02:10:41 +0000 2018 Tweet: RT @CoreenZell: WI Exit Poll Data in race for US Senate- 57% Tammy Baldwin, 42% Leah Vukmir \n",
      "Source: Edison Research\n",
      "User: @tmj4 Created: Wed Nov 07 02:09:57 +0000 2018 Tweet: #BREAKING: Tammy Baldwin has won re-election to the US Senate, according to NBC News and exit poll data: https://t.co/9afYIPcJbN\n",
      "User: @tmj4 Created: Wed Nov 07 01:43:13 +0000 2018 Tweet: RT @PeteZervakisTV: .@SpeakerRyan has endorsed @BryanSteilforWI to replace him in Congress. The two campaigned together in Racine Co. yeste…\n",
      "User: @tmj4 Created: Wed Nov 07 00:46:59 +0000 2018 Tweet: RT @CharlesBenson4: Here’s what Wisconsin voters are saying about President Trump. If you combine the two top numbers, 47% equals his numbe…\n",
      "User: @tmj4 Created: Wed Nov 07 00:07:41 +0000 2018 Tweet: RT @CoreenZell: WI Exit Poll Data: 11% of voters asked said this is their first time voting in a midterm election  \n",
      "Source: Edison Research\n",
      "User: @tmj4 Created: Wed Nov 07 00:06:56 +0000 2018 Tweet: RT @CharlesBenson4: The Big 4 for Wisconsin voters. #ElectionDay https://t.co/Y7P1LKIkqA\n",
      "User: @tmj4 Created: Tue Nov 06 23:59:24 +0000 2018 Tweet: Did you vote strictly along party lines on your ballot?\n",
      "User: @tmj4 Created: Tue Nov 06 23:18:39 +0000 2018 Tweet: RT @CoreenZell: WI Exit Poll Data: Here's what voters who were asked said about the state of health care in the US \n",
      "69% major changes need…\n",
      "User: @tmj4 Created: Tue Nov 06 23:12:42 +0000 2018 Tweet: RT @CharlesBenson4: Just in: What Wisconsin voters are saying about big issues in this year’s election. #ElectionDay https://t.co/OiIcYaRihR\n",
      "User: @tmj4 Created: Tue Nov 06 23:11:33 +0000 2018 Tweet: RT @CoreenZell: WI Exit Poll Data: When Edison Research asked voters when they decided who to vote for in the US Senate race 5% of those wh…\n",
      "User: @tmj4 Created: Tue Nov 06 22:31:05 +0000 2018 Tweet: RT @TMJ4Tom: .@CharlesBenson4 and I have Waukesha County covered. Republican Governor and Senate race parties held together here. @tmj4 #Th…\n"
     ]
    },
    {
     "name": "stdout",
     "output_type": "stream",
     "text": [
      "User: @tbn Created: Mon Nov 05 17:41:09 +0000 2018 Tweet: RT @HuckabeeOnTBN: Just ONE HOUR until our 30-minute election special (hosted by @GovMikeHuckabee) breaks down voter strategy, turnout, and…\n",
      "User: @wxow Created: Wed Nov 07 02:42:15 +0000 2018 Tweet: BREAKING: Democrat Amy Klobuchar wins re-election to U.S. Senate from Minnesota.\n",
      "User: @wxow Created: Wed Nov 07 02:23:25 +0000 2018 Tweet: BREAKING: Tammy Baldwin the projected winner in Wisconsin U.S. Senate race.  https://t.co/Y0iCrO5638 https://t.co/lpUhVh6Y8N\n",
      "User: @wxow Created: Wed Nov 07 01:22:59 +0000 2018 Tweet: Former UW Madison chancellor is headed to Congress. https://t.co/t7tzkPVvCT\n",
      "User: @wxow Created: Wed Nov 07 00:04:21 +0000 2018 Tweet: RT @ABC: JUST IN: Bernie Sanders will win the U.S. Senate race in Vermont, @ABC projects based on exit polls. https://t.co/QF15MHa8Bu #Midt…\n",
      "User: @wxow Created: Tue Nov 06 23:05:04 +0000 2018 Tweet: Minnesota voters wait to vote at the La Crescent Fire Station tonight. With 2 US Senate seats, 8 districts voting f… https://t.co/7a2iKzO6KW\n",
      "User: @wxow Created: Tue Nov 06 22:52:14 +0000 2018 Tweet: West Salem City Clerk says the 2016 Preisdential election saw 2,200 voters. So far today, they’re at 2,000. Calls v… https://t.co/k0IBfO5JcW\n",
      "User: @wxow Created: Tue Nov 06 22:00:07 +0000 2018 Tweet: A steady turnout in Viroqua, where voters must decide on whether to spend $37 million for new school district facil… https://t.co/dQq5gDcR6P\n",
      "User: @wxow Created: Tue Nov 06 18:25:25 +0000 2018 Tweet: The latest on voting at one polling place in La Crosse and how the youth vote can be a factor in today's elections.… https://t.co/WgMBVS53KD\n",
      "User: @wxow Created: Mon Nov 05 20:30:03 +0000 2018 Tweet: Local, national issues draw voters to polls in La Crosse area. https://t.co/NGZs39KO0g https://t.co/x8Gs4EQsQ4\n",
      "User: @wxow Created: Sun Nov 04 17:10:02 +0000 2018 Tweet: To help voters get to the polls easier, several groups are stepping up to provide free transportation assistance in… https://t.co/WHhWnjxsCA\n"
     ]
    }
   ],
   "source": [
    "for twitter in twitters:\n",
    "    station_tweets = api.user_timeline(id=twitter, max_id=\"1060001046734753792\", count=50)\n",
    "    for tweet in station_tweets:\n",
    "        if \"Politic\" in tweet['text']:\n",
    "            print(f\"User: {twitter} Created: {tweet['created_at']} Tweet: {tweet['text']}\")\n",
    "        elif \"Hillary Clinton\" in tweet['text']:\n",
    "            print(f\"User: {twitter} Created: {tweet['created_at']} Tweet: {tweet['text']}\")\n",
    "        elif \"Donald Trump\" in tweet['text']:\n",
    "            print(f\"User: {twitter} Created: {tweet['created_at']} Tweet: {tweet['text']}\")\n",
    "        elif \"Republican\" in tweet['text']:\n",
    "            print(f\"User: {twitter} Created: {tweet['created_at']} Tweet: {tweet['text']}\")\n",
    "        elif \"Democrat\" in tweet['text']:\n",
    "            print(f\"User: {twitter} Created: {tweet['created_at']} Tweet: {tweet['text']}\")\n",
    "        elif \"email\" in tweet['text']:\n",
    "            print(f\"User: {twitter} Created: {tweet['created_at']} Tweet: {tweet['text']}\")\n",
    "        elif \"vote\" in tweet['text']:\n",
    "            print(f\"User: {twitter} Created: {tweet['created_at']} Tweet: {tweet['text']}\")\n",
    "        elif \"Bernie Sanders\" in tweet['text']:\n",
    "            print(f\"User: {twitter} Created: {tweet['created_at']} Tweet: {tweet['text']}\")\n",
    "        elif \"The Wall\" in tweet['text']:\n",
    "            print(f\"User: {twitter} Created: {tweet['created_at']} Tweet: {tweet['text']}\")\n",
    "        elif \"Senate\" in tweet['text']:\n",
    "            print(f\"User: {twitter} Created: {tweet['created_at']} Tweet: {tweet['text']}\")\n",
    "        elif \"Congress\" in tweet['text']:\n",
    "            print(f\"User: {twitter} Created: {tweet['created_at']} Tweet: {tweet['text']}\")\n",
    "        elif \"Taxes\" in tweet['text']:\n",
    "            print(f\"User: {twitter} Created: {tweet['created_at']} Tweet: {tweet['text']}\")\n",
    "        elif \"Wall\" in tweet['text']:\n",
    "            print(f\"User: {twitter} Created: {tweet['created_at']} Tweet: {tweet['text']}\")\n",
    "        elif \"Healthcare\" in tweet['text']:\n",
    "            print(f\"User: {twitter} Created: {tweet['created_at']} Tweet: {tweet['text']}\")\n",
    "        elif \"Economy\" in tweet['text']:\n",
    "            print(f\"User: {twitter} Created: {tweet['created_at']} Tweet: {tweet['text']}\")\n",
    "        elif \"Gun\" in tweet['text']:\n",
    "            print(f\"User: {twitter} Created: {tweet['created_at']} Tweet: {tweet['text']}\")\n",
    "        elif \"migration\" in tweet['text']:\n",
    "            print(f\"User: {twitter} Created: {tweet['created_at']} Tweet: {tweet['text']}\")\n",
    "        elif \"refugee\" in tweet['text']:\n",
    "            print(f\"User: {twitter} Created: {tweet['created_at']} Tweet: {tweet['text']}\")\n",
    "        else:\n",
    "                  continue"
   ]
  },
  {
   "cell_type": "code",
   "execution_count": null,
   "metadata": {},
   "outputs": [],
   "source": []
  }
 ],
 "metadata": {
  "kernelspec": {
   "display_name": "Python 3",
   "language": "python",
   "name": "python3"
  },
  "language_info": {
   "codemirror_mode": {
    "name": "ipython",
    "version": 3
   },
   "file_extension": ".py",
   "mimetype": "text/x-python",
   "name": "python",
   "nbconvert_exporter": "python",
   "pygments_lexer": "ipython3",
   "version": "3.7.1"
  }
 },
 "nbformat": 4,
 "nbformat_minor": 2
}
