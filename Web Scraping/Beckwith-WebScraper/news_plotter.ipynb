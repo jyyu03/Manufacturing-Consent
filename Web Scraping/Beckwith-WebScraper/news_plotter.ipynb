{
 "cells": [
  {
   "cell_type": "code",
   "execution_count": null,
   "metadata": {},
   "outputs": [],
   "source": [
    "# Chrome Driver and Imports\n",
    "from splinter import Browser\n",
    "from bs4 import BeautifulSoup as bs\n",
    "import pandas as pd\n",
    "import prettify\n",
    "import requests\n",
    "import requests\n",
    "import time\n",
    "from citipy import citipy\n",
    "import json\n",
    "import tweepy\n",
    "import datetime\n",
    "import plotly\n",
    "from plotly.offline import iplot, init_notebook_mode\n",
    "import plotly.graph_objs as go\n",
    "import plotly.io as pio\n",
    "init_notebook_mode(connected=True)\n",
    "executable_path = {'executable_path': 'chromedriver.exe'}\n",
    "browser = Browser('chrome', **executable_path, headless=False)\n",
    "from flask import Flask, jsonify, render_template\n",
    "import pymongo\n",
    "#set up connection to mlab\n",
    "app = Flask(__name__)\n",
    "DB_NAME = 'manufacture_consent'\n",
    "DB_HOST = 'ds255403.mlab.com'\n",
    "DB_PORT =  55403\n",
    "DB_USER = 'edwardwisejr'\n",
    "DB_PASS = 'Flender77!'\n",
    "connection = pymongo.MongoClient(DB_HOST, DB_PORT)\n",
    "db = connection[DB_NAME]\n",
    "db.authenticate(DB_USER, DB_PASS)"
   ]
  },
  {
   "cell_type": "code",
   "execution_count": null,
   "metadata": {},
   "outputs": [],
   "source": [
    "daily_news = db.mc_daily_state_news"
   ]
  },
  {
   "cell_type": "code",
   "execution_count": null,
   "metadata": {},
   "outputs": [],
   "source": [
    "news_df = pd.DataFrame(list(daily_news.find({})))"
   ]
  },
  {
   "cell_type": "code",
   "execution_count": null,
   "metadata": {},
   "outputs": [],
   "source": [
    "buzzGroup = news_df.groupby(['Buzz Word'])"
   ]
  },
  {
   "cell_type": "code",
   "execution_count": null,
   "metadata": {},
   "outputs": [],
   "source": [
    "buzz_words = news_df['Buzz Word']\n",
    "date_times = news_df['Time']\n",
    "website_urls = news_df['Website']\n",
    "states = news_df['State']\n",
    "colors=[]\n",
    "for state in states:\n",
    "    if state == \"WI\":\n",
    "        colors.append('purple')\n",
    "    elif state == \"IL\":\n",
    "        colors.append('blue')\n",
    "    elif state == \"IN\":\n",
    "        colors.append('red')"
   ]
  },
  {
   "cell_type": "code",
   "execution_count": null,
   "metadata": {},
   "outputs": [],
   "source": [
    "trace1 = go.Scatter3d(\n",
    "    x=date_times,\n",
    "    y=buzz_words,\n",
    "    z=website_urls,\n",
    "    mode='markers',\n",
    "    hovertext=link_texts,\n",
    "    marker=dict(\n",
    "        size=10,\n",
    "        color=colors,\n",
    "        colorscale='Viridis',\n",
    "        opacity=0.08\n",
    "    )\n",
    ")\n",
    "news_data = [trace1]\n",
    "layout = go.Layout(\n",
    "    showlegend=True,\n",
    "    legend=dict(orientation=\"h\"),\n",
    "    margin=dict(\n",
    "        l=0,\n",
    "        r=0,\n",
    "        b=0,\n",
    "        t=0\n",
    "    )\n",
    ")\n",
    "\n",
    "fig = go.Figure(data=news_data, layout=layout)\n",
    "iplot(fig)"
   ]
  },
  {
   "cell_type": "code",
   "execution_count": null,
   "metadata": {},
   "outputs": [],
   "source": [
    "fig = go.Figure()\n",
    "fig.add_scatter(x=date_times,\n",
    "                y=buzz_words,\n",
    "                mode='markers',\n",
    "                fillcolor=\"black\",\n",
    "                hovertext= website_urls,\n",
    "                marker={'size': 12,\n",
    "                        'color': colors,\n",
    "                        'opacity': 0.08,\n",
    "                        'colorscale': 'Viridis'\n",
    "                       });\n",
    "iplot(fig)"
   ]
  },
  {
   "cell_type": "code",
   "execution_count": null,
   "metadata": {},
   "outputs": [],
   "source": [
    "fig = go.Figure()\n",
    "fig.add_scatter(x=website_urls,\n",
    "                y=buzz_words,\n",
    "                mode='markers',\n",
    "                fillcolor=\"black\",\n",
    "                hovertext= states,\n",
    "                marker={'size': 12,\n",
    "                        'color': colors,\n",
    "                        'opacity': 0.08,\n",
    "                        'colorscale': 'Viridis'\n",
    "                       });\n",
    "iplot(fig)"
   ]
  },
  {
   "cell_type": "code",
   "execution_count": null,
   "metadata": {},
   "outputs": [],
   "source": []
  }
 ],
 "metadata": {
  "kernelspec": {
   "display_name": "Python 3",
   "language": "python",
   "name": "python3"
  },
  "language_info": {
   "codemirror_mode": {
    "name": "ipython",
    "version": 3
   },
   "file_extension": ".py",
   "mimetype": "text/x-python",
   "name": "python",
   "nbconvert_exporter": "python",
   "pygments_lexer": "ipython3",
   "version": "3.7.1"
  }
 },
 "nbformat": 4,
 "nbformat_minor": 2
}
